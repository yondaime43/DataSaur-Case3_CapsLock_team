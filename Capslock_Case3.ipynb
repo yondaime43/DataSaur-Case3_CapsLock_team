{
 "cells": [
  {
   "cell_type": "code",
   "execution_count": 1,
   "id": "b3811647",
   "metadata": {},
   "outputs": [
    {
     "name": "stdout",
     "output_type": "stream",
     "text": [
      "Epoch 1/10\n",
      "180/180 [==============================] - 11s 58ms/step - loss: 0.2647 - accuracy: 0.8890 - val_loss: 0.1801 - val_accuracy: 0.9234\n",
      "Epoch 2/10\n",
      "180/180 [==============================] - 10s 56ms/step - loss: 0.1370 - accuracy: 0.9486 - val_loss: 0.2065 - val_accuracy: 0.9266\n",
      "Epoch 3/10\n",
      "180/180 [==============================] - 10s 56ms/step - loss: 0.1067 - accuracy: 0.9601 - val_loss: 0.1443 - val_accuracy: 0.9500\n",
      "Epoch 4/10\n",
      "180/180 [==============================] - 10s 57ms/step - loss: 0.0816 - accuracy: 0.9726 - val_loss: 0.1356 - val_accuracy: 0.9516\n",
      "Epoch 5/10\n",
      "180/180 [==============================] - 10s 57ms/step - loss: 0.0591 - accuracy: 0.9792 - val_loss: 0.1337 - val_accuracy: 0.9453\n",
      "Epoch 6/10\n",
      "180/180 [==============================] - 10s 57ms/step - loss: 0.0437 - accuracy: 0.9851 - val_loss: 0.1397 - val_accuracy: 0.9563\n",
      "Epoch 7/10\n",
      "180/180 [==============================] - 10s 57ms/step - loss: 0.0294 - accuracy: 0.9898 - val_loss: 0.1850 - val_accuracy: 0.9375\n",
      "Epoch 8/10\n",
      "180/180 [==============================] - 10s 57ms/step - loss: 0.0240 - accuracy: 0.9920 - val_loss: 0.1240 - val_accuracy: 0.9594\n",
      "Epoch 9/10\n",
      "180/180 [==============================] - 10s 58ms/step - loss: 0.0185 - accuracy: 0.9943 - val_loss: 0.1705 - val_accuracy: 0.9531\n",
      "Epoch 10/10\n",
      "180/180 [==============================] - 10s 58ms/step - loss: 0.0122 - accuracy: 0.9955 - val_loss: 0.1685 - val_accuracy: 0.9625\n"
     ]
    }
   ],
   "source": [
    "import os\n",
    "import cv2\n",
    "import numpy as np\n",
    "from sklearn.model_selection import train_test_split\n",
    "import tensorflow as tf\n",
    "from tensorflow.keras.models import Sequential\n",
    "from tensorflow.keras.layers import Conv2D, MaxPooling2D, Flatten, Dense, Dropout\n",
    "\n",
    "# Define the paths to the image folders\n",
    "fake_folders = [\n",
    "    'C:/Users/User/Desktop/dataton/techosmotr/techosmotr/train/fictivniye(fictitious)/2-from-the-screen',\n",
    "    'C:/Users/User/Desktop/dataton/techosmotr/techosmotr/train/fictivniye(fictitious)/3-from-the-screen+photoshop',\n",
    "    'C:/Users/User/Desktop/dataton/techosmotr/techosmotr/train/fictivniye(fictitious)/4-photoshop'\n",
    "]\n",
    "real_folder = 'C:/Users/User/Desktop/dataton/techosmotr/techosmotr/train/pravilniye(correct)/0-correct'\n",
    "\n",
    "# Load and preprocess images\n",
    "def load_and_preprocess_images(folder_paths, label):\n",
    "    images = []\n",
    "    labels = []\n",
    "    for folder_path in folder_paths:\n",
    "        for filename in os.listdir(folder_path):\n",
    "            if filename.endswith('.jpeg'):\n",
    "                img = cv2.imread(os.path.join(folder_path, filename))\n",
    "                img = cv2.resize(img, (64, 64))  # Resize to 64x64 pixels\n",
    "                img = img / 255.0  # Normalize pixel values\n",
    "                images.append(img)                \n",
    "                labels.append(label)  \n",
    "    return np.array(images), np.array(labels)\n",
    "\n",
    "# Load and preprocess fake images\n",
    "fake_images, fake_labels = load_and_preprocess_images(fake_folders, label=1)\n",
    "\n",
    "# Load and preprocess real images\n",
    "real_images, real_labels = load_and_preprocess_images([real_folder], label=0)\n",
    "\n",
    "# Combine fake and real images and labels\n",
    "X = np.concatenate((fake_images, real_images))\n",
    "y = np.concatenate((fake_labels, real_labels))\n",
    "\n",
    "# Split data into training and testing sets\n",
    "X_train, X_test, y_train, y_test = train_test_split(X, y, test_size=0.1, random_state=42)\n",
    "\n",
    "# Define the CNN model (same as before)\n",
    "model_1 = Sequential([\n",
    "    Conv2D(32, (3,3), activation='relu', input_shape=(64, 64, 3)),\n",
    "    MaxPooling2D(pool_size=(2, 2)),\n",
    "    Conv2D(64, (3,3), activation='relu'),\n",
    "    MaxPooling2D(pool_size=(2, 2)),\n",
    "    Flatten(),\n",
    "    Dense(128, activation='relu'),\n",
    "    Dropout(0.25),\n",
    "    Dense(1, activation='sigmoid')\n",
    "])\n",
    "\n",
    "# Compile the model\n",
    "model_1.compile(optimizer='adam', loss='binary_crossentropy', metrics=['accuracy'])\n",
    "\n",
    "# Train the model\n",
    "model_1.fit(X_train, y_train, epochs=10, batch_size=32, validation_data=(X_test, y_test))\n",
    "\n",
    "# Evaluate the model on the test set\n",
    "test_loss, test_accuracy = model_1.evaluate(X_test, y_test, verbose=0)\n"
   ]
  },
  {
   "cell_type": "code",
   "execution_count": 2,
   "id": "a83eea90",
   "metadata": {},
   "outputs": [
    {
     "data": {
      "text/plain": [
       "(640,)"
      ]
     },
     "execution_count": 2,
     "metadata": {},
     "output_type": "execute_result"
    }
   ],
   "source": [
    "y_test.shape"
   ]
  },
  {
   "cell_type": "code",
   "execution_count": 3,
   "id": "ab913f87",
   "metadata": {},
   "outputs": [
    {
     "name": "stdout",
     "output_type": "stream",
     "text": [
      "20/20 [==============================] - 0s 12ms/step - loss: 0.1685 - accuracy: 0.9625\n"
     ]
    },
    {
     "data": {
      "text/plain": [
       "[0.16847684979438782, 0.9624999761581421]"
      ]
     },
     "execution_count": 3,
     "metadata": {},
     "output_type": "execute_result"
    }
   ],
   "source": [
    "model_1.evaluate(X_test, y_test)"
   ]
  },
  {
   "cell_type": "code",
   "execution_count": 4,
   "id": "8fe069c7",
   "metadata": {},
   "outputs": [
    {
     "name": "stdout",
     "output_type": "stream",
     "text": [
      "Epoch 1/10\n",
      "20/20 [==============================] - 1s 56ms/step - loss: 0.1436 - accuracy: 0.9547\n",
      "Epoch 2/10\n",
      "20/20 [==============================] - 1s 57ms/step - loss: 0.0489 - accuracy: 0.9781\n",
      "Epoch 3/10\n",
      "20/20 [==============================] - 1s 57ms/step - loss: 0.0230 - accuracy: 0.9922\n",
      "Epoch 4/10\n",
      "20/20 [==============================] - 1s 55ms/step - loss: 0.0164 - accuracy: 0.9969\n",
      "Epoch 5/10\n",
      "20/20 [==============================] - 1s 55ms/step - loss: 0.0125 - accuracy: 0.9969\n",
      "Epoch 6/10\n",
      "20/20 [==============================] - 1s 56ms/step - loss: 0.0051 - accuracy: 1.0000\n",
      "Epoch 7/10\n",
      "20/20 [==============================] - 1s 56ms/step - loss: 0.0034 - accuracy: 1.0000\n",
      "Epoch 8/10\n",
      "20/20 [==============================] - 1s 56ms/step - loss: 0.0046 - accuracy: 0.9984\n",
      "Epoch 9/10\n",
      "20/20 [==============================] - 1s 56ms/step - loss: 0.0027 - accuracy: 1.0000\n",
      "Epoch 10/10\n",
      "20/20 [==============================] - 1s 57ms/step - loss: 0.0010 - accuracy: 1.0000\n"
     ]
    },
    {
     "data": {
      "text/plain": [
       "<keras.src.callbacks.History at 0x22eb293f7d0>"
      ]
     },
     "execution_count": 4,
     "metadata": {},
     "output_type": "execute_result"
    }
   ],
   "source": [
    "model_1.fit(X_test, y_test, epochs=10, batch_size=32)"
   ]
  },
  {
   "cell_type": "code",
   "execution_count": 5,
   "id": "893830ea",
   "metadata": {},
   "outputs": [],
   "source": [
    "test_folder = 'C:/Users/User/Desktop/dataton/techosmotr/techosmotr/test'\n",
    "\n",
    "test_images, test_labels = load_and_preprocess_images([test_folder], 3)"
   ]
  },
  {
   "cell_type": "code",
   "execution_count": 6,
   "id": "f76ac83e",
   "metadata": {},
   "outputs": [
    {
     "name": "stdout",
     "output_type": "stream",
     "text": [
      "25/25 [==============================] - 0s 14ms/step\n"
     ]
    },
    {
     "data": {
      "text/plain": [
       "array([[9.9971294e-01],\n",
       "       [3.8756810e-02],\n",
       "       [9.9999076e-01],\n",
       "       [3.1493648e-09],\n",
       "       [5.6738346e-03]], dtype=float32)"
      ]
     },
     "execution_count": 6,
     "metadata": {},
     "output_type": "execute_result"
    }
   ],
   "source": [
    "predictions = model_1.predict(test_images)\n",
    "predictions[:5]"
   ]
  },
  {
   "cell_type": "code",
   "execution_count": 7,
   "id": "4d1780bb",
   "metadata": {},
   "outputs": [
    {
     "data": {
      "text/plain": [
       "(777, 282, 488)"
      ]
     },
     "execution_count": 7,
     "metadata": {},
     "output_type": "execute_result"
    }
   ],
   "source": [
    "overall_count = len(predictions)\n",
    "count_p = 0\n",
    "count_n = 0\n",
    "for p in predictions:\n",
    "    if p >= 0.6:\n",
    "        count_p += 1\n",
    "    elif p<= 0.4:\n",
    "        count_n += 1\n",
    "        \n",
    "(overall_count, count_p, count_n)"
   ]
  },
  {
   "cell_type": "code",
   "execution_count": 8,
   "id": "1f773942",
   "metadata": {},
   "outputs": [
    {
     "name": "stdout",
     "output_type": "stream",
     "text": [
      "20/20 [==============================] - 0s 15ms/step\n"
     ]
    },
    {
     "data": {
      "image/png": "[encoded data removed]",
      "text/plain": [
       "<Figure size 640x480 with 1 Axes>"
      ]
     },
     "metadata": {},
     "output_type": "display_data"
    }
   ],
   "source": [
    "import matplotlib.pyplot as plt\n",
    "\n",
    "# Assuming `predictions` is a numpy array of probabilities\n",
    "# Replace this with your actual array of probabilities\n",
    "\n",
    "predictions = model_1.predict(X_test)\n",
    "predictions = predictions.flatten()  # Flatten to 1D array\n",
    "predictions[:5]  # Display first 5 predictions as a check\n",
    "\n",
    "# Set up bins\n",
    "bins = np.linspace(0, 1, 100)\n",
    "\n",
    "# Create histogram\n",
    "plt.hist(predictions, bins=bins, edgecolor='k', alpha=0.7, color='blue')\n",
    "\n",
    "# Add labels and title\n",
    "plt.xlabel('Confidence')\n",
    "plt.ylabel('Count')\n",
    "plt.title('Distribution of Model Confidence')\n",
    "\n",
    "# Add vertical lines for threshold values\n",
    "plt.axvline(x=0.4, color='red', linestyle='dashed', linewidth=1)\n",
    "plt.axvline(x=0.6, color='green', linestyle='dashed', linewidth=1)\n",
    "\n",
    "# Add legend\n",
    "plt.legend(['Threshold 0.4', 'Threshold 0.6'])\n",
    "\n",
    "# Show plot\n",
    "plt.show()\n"
   ]
  },
  {
   "cell_type": "code",
   "execution_count": 9,
   "id": "f30df2f1",
   "metadata": {},
   "outputs": [],
   "source": [
    "threshold = 0.1\n",
    "pred_labels = []\n",
    "for p in predictions:\n",
    "    if p < 0.5:\n",
    "        pred_labels.append(0)\n",
    "    else:\n",
    "        pred_labels.append(1)\n",
    "        \n",
    "assert len(pred_labels) == len(predictions)"
   ]
  },
  {
   "cell_type": "code",
   "execution_count": 23,
   "id": "4641660d",
   "metadata": {},
   "outputs": [
    {
     "name": "stdout",
     "output_type": "stream",
     "text": [
      "25/25 [==============================] - 0s 16ms/step\n"
     ]
    },
    {
     "ename": "PermissionError",
     "evalue": "[Errno 13] Permission denied: 'test_predictions1.csv'",
     "output_type": "error",
     "traceback": [
      "\u001b[1;31m---------------------------------------------------------------------------\u001b[0m",
      "\u001b[1;31mPermissionError\u001b[0m                           Traceback (most recent call last)",
      "Cell \u001b[1;32mIn[23], line 34\u001b[0m\n\u001b[0;32m     31\u001b[0m results_df \u001b[38;5;241m=\u001b[39m pd\u001b[38;5;241m.\u001b[39mDataFrame({\u001b[38;5;124m'\u001b[39m\u001b[38;5;124mfile_index\u001b[39m\u001b[38;5;124m'\u001b[39m: test_indices, \u001b[38;5;124m'\u001b[39m\u001b[38;5;124mclass\u001b[39m\u001b[38;5;124m'\u001b[39m: predicted_labels})\n\u001b[0;32m     33\u001b[0m \u001b[38;5;66;03m# Save the results to a CSV file\u001b[39;00m\n\u001b[1;32m---> 34\u001b[0m results_df\u001b[38;5;241m.\u001b[39mto_csv(\u001b[38;5;124m'\u001b[39m\u001b[38;5;124mtest_predictions1.csv\u001b[39m\u001b[38;5;124m'\u001b[39m, index\u001b[38;5;241m=\u001b[39m\u001b[38;5;28;01mFalse\u001b[39;00m)\n",
      "File \u001b[1;32m~\\anaconda3\\Lib\\site-packages\\pandas\\util\\_decorators.py:211\u001b[0m, in \u001b[0;36mdeprecate_kwarg.<locals>._deprecate_kwarg.<locals>.wrapper\u001b[1;34m(*args, **kwargs)\u001b[0m\n\u001b[0;32m    209\u001b[0m     \u001b[38;5;28;01melse\u001b[39;00m:\n\u001b[0;32m    210\u001b[0m         kwargs[new_arg_name] \u001b[38;5;241m=\u001b[39m new_arg_value\n\u001b[1;32m--> 211\u001b[0m \u001b[38;5;28;01mreturn\u001b[39;00m func(\u001b[38;5;241m*\u001b[39margs, \u001b[38;5;241m*\u001b[39m\u001b[38;5;241m*\u001b[39mkwargs)\n",
      "File \u001b[1;32m~\\anaconda3\\Lib\\site-packages\\pandas\\core\\generic.py:3720\u001b[0m, in \u001b[0;36mNDFrame.to_csv\u001b[1;34m(self, path_or_buf, sep, na_rep, float_format, columns, header, index, index_label, mode, encoding, compression, quoting, quotechar, lineterminator, chunksize, date_format, doublequote, escapechar, decimal, errors, storage_options)\u001b[0m\n\u001b[0;32m   3709\u001b[0m df \u001b[38;5;241m=\u001b[39m \u001b[38;5;28mself\u001b[39m \u001b[38;5;28;01mif\u001b[39;00m \u001b[38;5;28misinstance\u001b[39m(\u001b[38;5;28mself\u001b[39m, ABCDataFrame) \u001b[38;5;28;01melse\u001b[39;00m \u001b[38;5;28mself\u001b[39m\u001b[38;5;241m.\u001b[39mto_frame()\n\u001b[0;32m   3711\u001b[0m formatter \u001b[38;5;241m=\u001b[39m DataFrameFormatter(\n\u001b[0;32m   3712\u001b[0m     frame\u001b[38;5;241m=\u001b[39mdf,\n\u001b[0;32m   3713\u001b[0m     header\u001b[38;5;241m=\u001b[39mheader,\n\u001b[1;32m   (...)\u001b[0m\n\u001b[0;32m   3717\u001b[0m     decimal\u001b[38;5;241m=\u001b[39mdecimal,\n\u001b[0;32m   3718\u001b[0m )\n\u001b[1;32m-> 3720\u001b[0m \u001b[38;5;28;01mreturn\u001b[39;00m DataFrameRenderer(formatter)\u001b[38;5;241m.\u001b[39mto_csv(\n\u001b[0;32m   3721\u001b[0m     path_or_buf,\n\u001b[0;32m   3722\u001b[0m     lineterminator\u001b[38;5;241m=\u001b[39mlineterminator,\n\u001b[0;32m   3723\u001b[0m     sep\u001b[38;5;241m=\u001b[39msep,\n\u001b[0;32m   3724\u001b[0m     encoding\u001b[38;5;241m=\u001b[39mencoding,\n\u001b[0;32m   3725\u001b[0m     errors\u001b[38;5;241m=\u001b[39merrors,\n\u001b[0;32m   3726\u001b[0m     compression\u001b[38;5;241m=\u001b[39mcompression,\n\u001b[0;32m   3727\u001b[0m     quoting\u001b[38;5;241m=\u001b[39mquoting,\n\u001b[0;32m   3728\u001b[0m     columns\u001b[38;5;241m=\u001b[39mcolumns,\n\u001b[0;32m   3729\u001b[0m     index_label\u001b[38;5;241m=\u001b[39mindex_label,\n\u001b[0;32m   3730\u001b[0m     mode\u001b[38;5;241m=\u001b[39mmode,\n\u001b[0;32m   3731\u001b[0m     chunksize\u001b[38;5;241m=\u001b[39mchunksize,\n\u001b[0;32m   3732\u001b[0m     quotechar\u001b[38;5;241m=\u001b[39mquotechar,\n\u001b[0;32m   3733\u001b[0m     date_format\u001b[38;5;241m=\u001b[39mdate_format,\n\u001b[0;32m   3734\u001b[0m     doublequote\u001b[38;5;241m=\u001b[39mdoublequote,\n\u001b[0;32m   3735\u001b[0m     escapechar\u001b[38;5;241m=\u001b[39mescapechar,\n\u001b[0;32m   3736\u001b[0m     storage_options\u001b[38;5;241m=\u001b[39mstorage_options,\n\u001b[0;32m   3737\u001b[0m )\n",
      "File \u001b[1;32m~\\anaconda3\\Lib\\site-packages\\pandas\\util\\_decorators.py:211\u001b[0m, in \u001b[0;36mdeprecate_kwarg.<locals>._deprecate_kwarg.<locals>.wrapper\u001b[1;34m(*args, **kwargs)\u001b[0m\n\u001b[0;32m    209\u001b[0m     \u001b[38;5;28;01melse\u001b[39;00m:\n\u001b[0;32m    210\u001b[0m         kwargs[new_arg_name] \u001b[38;5;241m=\u001b[39m new_arg_value\n\u001b[1;32m--> 211\u001b[0m \u001b[38;5;28;01mreturn\u001b[39;00m func(\u001b[38;5;241m*\u001b[39margs, \u001b[38;5;241m*\u001b[39m\u001b[38;5;241m*\u001b[39mkwargs)\n",
      "File \u001b[1;32m~\\anaconda3\\Lib\\site-packages\\pandas\\io\\formats\\format.py:1189\u001b[0m, in \u001b[0;36mDataFrameRenderer.to_csv\u001b[1;34m(self, path_or_buf, encoding, sep, columns, index_label, mode, compression, quoting, quotechar, lineterminator, chunksize, date_format, doublequote, escapechar, errors, storage_options)\u001b[0m\n\u001b[0;32m   1168\u001b[0m     created_buffer \u001b[38;5;241m=\u001b[39m \u001b[38;5;28;01mFalse\u001b[39;00m\n\u001b[0;32m   1170\u001b[0m csv_formatter \u001b[38;5;241m=\u001b[39m CSVFormatter(\n\u001b[0;32m   1171\u001b[0m     path_or_buf\u001b[38;5;241m=\u001b[39mpath_or_buf,\n\u001b[0;32m   1172\u001b[0m     lineterminator\u001b[38;5;241m=\u001b[39mlineterminator,\n\u001b[1;32m   (...)\u001b[0m\n\u001b[0;32m   1187\u001b[0m     formatter\u001b[38;5;241m=\u001b[39m\u001b[38;5;28mself\u001b[39m\u001b[38;5;241m.\u001b[39mfmt,\n\u001b[0;32m   1188\u001b[0m )\n\u001b[1;32m-> 1189\u001b[0m csv_formatter\u001b[38;5;241m.\u001b[39msave()\n\u001b[0;32m   1191\u001b[0m \u001b[38;5;28;01mif\u001b[39;00m created_buffer:\n\u001b[0;32m   1192\u001b[0m     \u001b[38;5;28;01massert\u001b[39;00m \u001b[38;5;28misinstance\u001b[39m(path_or_buf, StringIO)\n",
      "File \u001b[1;32m~\\anaconda3\\Lib\\site-packages\\pandas\\io\\formats\\csvs.py:241\u001b[0m, in \u001b[0;36mCSVFormatter.save\u001b[1;34m(self)\u001b[0m\n\u001b[0;32m    237\u001b[0m \u001b[38;5;250m\u001b[39m\u001b[38;5;124;03m\"\"\"\u001b[39;00m\n\u001b[0;32m    238\u001b[0m \u001b[38;5;124;03mCreate the writer & save.\u001b[39;00m\n\u001b[0;32m    239\u001b[0m \u001b[38;5;124;03m\"\"\"\u001b[39;00m\n\u001b[0;32m    240\u001b[0m \u001b[38;5;66;03m# apply compression and byte/text conversion\u001b[39;00m\n\u001b[1;32m--> 241\u001b[0m \u001b[38;5;28;01mwith\u001b[39;00m get_handle(\n\u001b[0;32m    242\u001b[0m     \u001b[38;5;28mself\u001b[39m\u001b[38;5;241m.\u001b[39mfilepath_or_buffer,\n\u001b[0;32m    243\u001b[0m     \u001b[38;5;28mself\u001b[39m\u001b[38;5;241m.\u001b[39mmode,\n\u001b[0;32m    244\u001b[0m     encoding\u001b[38;5;241m=\u001b[39m\u001b[38;5;28mself\u001b[39m\u001b[38;5;241m.\u001b[39mencoding,\n\u001b[0;32m    245\u001b[0m     errors\u001b[38;5;241m=\u001b[39m\u001b[38;5;28mself\u001b[39m\u001b[38;5;241m.\u001b[39merrors,\n\u001b[0;32m    246\u001b[0m     compression\u001b[38;5;241m=\u001b[39m\u001b[38;5;28mself\u001b[39m\u001b[38;5;241m.\u001b[39mcompression,\n\u001b[0;32m    247\u001b[0m     storage_options\u001b[38;5;241m=\u001b[39m\u001b[38;5;28mself\u001b[39m\u001b[38;5;241m.\u001b[39mstorage_options,\n\u001b[0;32m    248\u001b[0m ) \u001b[38;5;28;01mas\u001b[39;00m handles:\n\u001b[0;32m    249\u001b[0m \n\u001b[0;32m    250\u001b[0m     \u001b[38;5;66;03m# Note: self.encoding is irrelevant here\u001b[39;00m\n\u001b[0;32m    251\u001b[0m     \u001b[38;5;28mself\u001b[39m\u001b[38;5;241m.\u001b[39mwriter \u001b[38;5;241m=\u001b[39m csvlib\u001b[38;5;241m.\u001b[39mwriter(\n\u001b[0;32m    252\u001b[0m         handles\u001b[38;5;241m.\u001b[39mhandle,\n\u001b[0;32m    253\u001b[0m         lineterminator\u001b[38;5;241m=\u001b[39m\u001b[38;5;28mself\u001b[39m\u001b[38;5;241m.\u001b[39mlineterminator,\n\u001b[1;32m   (...)\u001b[0m\n\u001b[0;32m    258\u001b[0m         quotechar\u001b[38;5;241m=\u001b[39m\u001b[38;5;28mself\u001b[39m\u001b[38;5;241m.\u001b[39mquotechar,\n\u001b[0;32m    259\u001b[0m     )\n\u001b[0;32m    261\u001b[0m     \u001b[38;5;28mself\u001b[39m\u001b[38;5;241m.\u001b[39m_save()\n",
      "File \u001b[1;32m~\\anaconda3\\Lib\\site-packages\\pandas\\io\\common.py:856\u001b[0m, in \u001b[0;36mget_handle\u001b[1;34m(path_or_buf, mode, encoding, compression, memory_map, is_text, errors, storage_options)\u001b[0m\n\u001b[0;32m    851\u001b[0m \u001b[38;5;28;01melif\u001b[39;00m \u001b[38;5;28misinstance\u001b[39m(handle, \u001b[38;5;28mstr\u001b[39m):\n\u001b[0;32m    852\u001b[0m     \u001b[38;5;66;03m# Check whether the filename is to be opened in binary mode.\u001b[39;00m\n\u001b[0;32m    853\u001b[0m     \u001b[38;5;66;03m# Binary mode does not support 'encoding' and 'newline'.\u001b[39;00m\n\u001b[0;32m    854\u001b[0m     \u001b[38;5;28;01mif\u001b[39;00m ioargs\u001b[38;5;241m.\u001b[39mencoding \u001b[38;5;129;01mand\u001b[39;00m \u001b[38;5;124m\"\u001b[39m\u001b[38;5;124mb\u001b[39m\u001b[38;5;124m\"\u001b[39m \u001b[38;5;129;01mnot\u001b[39;00m \u001b[38;5;129;01min\u001b[39;00m ioargs\u001b[38;5;241m.\u001b[39mmode:\n\u001b[0;32m    855\u001b[0m         \u001b[38;5;66;03m# Encoding\u001b[39;00m\n\u001b[1;32m--> 856\u001b[0m         handle \u001b[38;5;241m=\u001b[39m \u001b[38;5;28mopen\u001b[39m(\n\u001b[0;32m    857\u001b[0m             handle,\n\u001b[0;32m    858\u001b[0m             ioargs\u001b[38;5;241m.\u001b[39mmode,\n\u001b[0;32m    859\u001b[0m             encoding\u001b[38;5;241m=\u001b[39mioargs\u001b[38;5;241m.\u001b[39mencoding,\n\u001b[0;32m    860\u001b[0m             errors\u001b[38;5;241m=\u001b[39merrors,\n\u001b[0;32m    861\u001b[0m             newline\u001b[38;5;241m=\u001b[39m\u001b[38;5;124m\"\u001b[39m\u001b[38;5;124m\"\u001b[39m,\n\u001b[0;32m    862\u001b[0m         )\n\u001b[0;32m    863\u001b[0m     \u001b[38;5;28;01melse\u001b[39;00m:\n\u001b[0;32m    864\u001b[0m         \u001b[38;5;66;03m# Binary mode\u001b[39;00m\n\u001b[0;32m    865\u001b[0m         handle \u001b[38;5;241m=\u001b[39m \u001b[38;5;28mopen\u001b[39m(handle, ioargs\u001b[38;5;241m.\u001b[39mmode)\n",
      "\u001b[1;31mPermissionError\u001b[0m: [Errno 13] Permission denied: 'test_predictions1.csv'"
     ]
    }
   ],
   "source": [
    "import os\n",
    "import pandas as pd\n",
    "import cv2\n",
    "import numpy as np\n",
    "\n",
    "# Load and preprocess images\n",
    "def load_and_preprocess_test_images(folder_path):\n",
    "    images = []\n",
    "    indices = []\n",
    "    for filename in os.listdir(folder_path):\n",
    "        if filename.endswith('.jpeg'):\n",
    "            index = int(filename.split('.')[0])  # Extract index from filename\n",
    "            indices.append(index)\n",
    "            img = cv2.imread(os.path.join(folder_path, filename))\n",
    "            img = cv2.resize(img, (64, 64))  # Resize to 64x64 pixels\n",
    "            img = img / 255.0  # Normalize pixel values\n",
    "            images.append(img)\n",
    "    return np.array(images), np.array(indices)\n",
    "\n",
    "# Define the path to the test image folder\n",
    "test_folder = 'C:/Users/User/Desktop/dataton/techosmotr/techosmotr/test/'\n",
    "\n",
    "# Load and preprocess test images\n",
    "test_images, test_indices = load_and_preprocess_test_images(test_folder)\n",
    "\n",
    "# Predict labels\n",
    "predictions = model_1.predict(test_images)\n",
    "predicted_labels = (predictions > 0.1).astype(int).flatten()\n",
    "\n",
    "# Create a DataFrame with indices and predicted labels\n",
    "results_df = pd.DataFrame({'file_index': test_indices, 'class': predicted_labels})\n",
    "\n",
    "# Save the results to a CSV file\n",
    "results_df.to_csv('test_predictions1.csv', index=False)\n"
   ]
  },
  {
   "cell_type": "code",
   "execution_count": 11,
   "id": "e816aaa2",
   "metadata": {},
   "outputs": [
    {
     "name": "stdout",
     "output_type": "stream",
     "text": [
      "     file_index  class\n",
      "0      70007467      1\n",
      "1      70007765      0\n",
      "2      70014532      1\n",
      "3      70015236      0\n",
      "4      70038388      0\n",
      "..          ...    ...\n",
      "772    79977891      0\n",
      "773    79978268      1\n",
      "774    79982298      0\n",
      "775    79991111      0\n",
      "776    79998230      0\n",
      "\n",
      "[777 rows x 2 columns]\n"
     ]
    }
   ],
   "source": [
    "import pandas as pd\n",
    "\n",
    "# Load the CSV file into a DataFrame\n",
    "results_df = pd.read_csv('test_predictions1.csv')\n",
    "\n",
    "# Display the first few rows\n",
    "print(results_df)\n"
   ]
  },
  {
   "cell_type": "code",
   "execution_count": 12,
   "id": "ea060974",
   "metadata": {},
   "outputs": [],
   "source": [
    "df = pd.read_csv('C:/Users/User/Desktop/dataton/annotations.csv')"
   ]
  },
  {
   "cell_type": "code",
   "execution_count": 13,
   "id": "f1182328",
   "metadata": {},
   "outputs": [],
   "source": [
    "image_folder = 'C:/Users/User/Desktop/dataton/techosmotr/techosmotr/train/pravilniye(correct)/0-correct/'\n",
    "df['annotation_id'] = df['annotation_id'].astype(str) \n",
    "df['image_path'] = image_folder + df['annotation_id']"
   ]
  },
  {
   "cell_type": "code",
   "execution_count": 14,
   "id": "ed4ad286",
   "metadata": {},
   "outputs": [
    {
     "name": "stdout",
     "output_type": "stream",
     "text": [
      "Model: \"sequential_1\"\n",
      "_________________________________________________________________\n",
      " Layer (type)                Output Shape              Param #   \n",
      "=================================================================\n",
      " conv2d_2 (Conv2D)           (None, 62, 62, 32)        896       \n",
      "                                                                 \n",
      " max_pooling2d_2 (MaxPoolin  (None, 31, 31, 32)        0         \n",
      " g2D)                                                            \n",
      "                                                                 \n",
      " conv2d_3 (Conv2D)           (None, 29, 29, 64)        18496     \n",
      "                                                                 \n",
      " max_pooling2d_3 (MaxPoolin  (None, 14, 14, 64)        0         \n",
      " g2D)                                                            \n",
      "                                                                 \n",
      " flatten_1 (Flatten)         (None, 12544)             0         \n",
      "                                                                 \n",
      " dense_2 (Dense)             (None, 128)               1605760   \n",
      "                                                                 \n",
      " dropout_1 (Dropout)         (None, 128)               0         \n",
      "                                                                 \n",
      " dense_3 (Dense)             (None, 1)                 129       \n",
      "                                                                 \n",
      "=================================================================\n",
      "Total params: 1625281 (6.20 MB)\n",
      "Trainable params: 1625281 (6.20 MB)\n",
      "Non-trainable params: 0 (0.00 Byte)\n",
      "_________________________________________________________________\n"
     ]
    }
   ],
   "source": [
    "# Define the CNN model\n",
    "model_2 = Sequential([\n",
    "    Conv2D(32, (3,3), activation='relu', input_shape=(64, 64, 3)),\n",
    "    MaxPooling2D(pool_size=(2, 2)),\n",
    "    Conv2D(64, (3,3), activation='relu'),\n",
    "    MaxPooling2D(pool_size=(2, 2)),\n",
    "    Flatten(),\n",
    "    Dense(128, activation='relu'),\n",
    "    Dropout(0.15),\n",
    "    Dense(1, activation='sigmoid')  # Output layer with 1 neuron for binary classification\n",
    "])\n",
    "\n",
    "# Compile the model\n",
    "model_2.compile(optimizer='adam', loss='binary_crossentropy', metrics=['accuracy'])\n",
    "\n",
    "# Print a summary of the model architecture\n",
    "model_2.summary()"
   ]
  },
  {
   "cell_type": "code",
   "execution_count": 15,
   "id": "a4f582b3",
   "metadata": {},
   "outputs": [],
   "source": [
    "X_train, X_val, y_train, y_val = train_test_split(X, y, test_size=0.1, random_state=42)"
   ]
  },
  {
   "cell_type": "code",
   "execution_count": 16,
   "id": "16e578fa",
   "metadata": {},
   "outputs": [
    {
     "name": "stdout",
     "output_type": "stream",
     "text": [
      "Epoch 1/10\n",
      "180/180 [==============================] - 11s 59ms/step - loss: 0.3345 - accuracy: 0.8559 - val_loss: 0.1878 - val_accuracy: 0.9187\n",
      "Epoch 2/10\n",
      "180/180 [==============================] - 10s 58ms/step - loss: 0.1515 - accuracy: 0.9424 - val_loss: 0.1539 - val_accuracy: 0.9359\n",
      "Epoch 3/10\n",
      "180/180 [==============================] - 10s 57ms/step - loss: 0.1113 - accuracy: 0.9590 - val_loss: 0.1682 - val_accuracy: 0.9453\n",
      "Epoch 4/10\n",
      "180/180 [==============================] - 11s 59ms/step - loss: 0.0966 - accuracy: 0.9634 - val_loss: 0.1305 - val_accuracy: 0.9484\n",
      "Epoch 5/10\n",
      "180/180 [==============================] - 11s 59ms/step - loss: 0.0718 - accuracy: 0.9778 - val_loss: 0.1939 - val_accuracy: 0.9406\n",
      "Epoch 6/10\n",
      "180/180 [==============================] - 11s 60ms/step - loss: 0.0588 - accuracy: 0.9783 - val_loss: 0.1316 - val_accuracy: 0.9516\n",
      "Epoch 7/10\n",
      "180/180 [==============================] - 11s 59ms/step - loss: 0.0428 - accuracy: 0.9840 - val_loss: 0.2077 - val_accuracy: 0.9484\n",
      "Epoch 8/10\n",
      "180/180 [==============================] - 11s 59ms/step - loss: 0.0247 - accuracy: 0.9932 - val_loss: 0.2016 - val_accuracy: 0.9484\n",
      "Epoch 9/10\n",
      "180/180 [==============================] - 10s 58ms/step - loss: 0.0174 - accuracy: 0.9955 - val_loss: 0.1834 - val_accuracy: 0.9500\n",
      "Epoch 10/10\n",
      "180/180 [==============================] - 11s 59ms/step - loss: 0.0115 - accuracy: 0.9965 - val_loss: 0.2354 - val_accuracy: 0.9469\n"
     ]
    }
   ],
   "source": [
    "history = model_2.fit(X_train, y_train, validation_data=(X_val, y_val), epochs=10, batch_size=32)"
   ]
  },
  {
   "cell_type": "code",
   "execution_count": 17,
   "id": "e7399199",
   "metadata": {},
   "outputs": [
    {
     "name": "stdout",
     "output_type": "stream",
     "text": [
      "Test Accuracy: 0.9468749761581421\n"
     ]
    }
   ],
   "source": [
    "test_loss, test_accuracy = model_2.evaluate(X_test, y_test, verbose=0)\n",
    "print(f\"Test Accuracy: {test_accuracy}\")"
   ]
  },
  {
   "cell_type": "code",
   "execution_count": 18,
   "id": "18868963",
   "metadata": {},
   "outputs": [
    {
     "data": {
      "image/png": "[encoded data removed]",
      "text/plain": [
       "<Figure size 640x480 with 1 Axes>"
      ]
     },
     "metadata": {},
     "output_type": "display_data"
    }
   ],
   "source": [
    "# Plot training history\n",
    "plt.plot(history.history['accuracy'], label='accuracy')\n",
    "plt.plot(history.history['val_accuracy'], label = 'val_accuracy')\n",
    "plt.xlabel('Epoch')\n",
    "plt.ylabel('Accuracy')\n",
    "plt.ylim([0, 1])\n",
    "plt.legend(loc='lower right')\n",
    "plt.show()"
   ]
  },
  {
   "cell_type": "code",
   "execution_count": 19,
   "id": "71355af9",
   "metadata": {},
   "outputs": [
    {
     "name": "stdout",
     "output_type": "stream",
     "text": [
      "20/20 [==============================] - 0s 13ms/step\n",
      "20/20 [==============================] - 0s 13ms/step\n",
      "F1 Score: 0.9766355140186915\n"
     ]
    }
   ],
   "source": [
    "from sklearn.metrics import f1_score\n",
    "\n",
    "# Assuming `model_1` is the model trained on the first fake folder\n",
    "predictions_1 = model_1.predict(X_test)\n",
    "\n",
    "# Assuming `model_2` is the model trained on the other three fake folders\n",
    "predictions_2 = model_2.predict(X_test)\n",
    "\n",
    "# Average predictions\n",
    "final_predictions = (predictions_1 + predictions_2) / 2\n",
    "\n",
    "# Convert probabilities to class labels (0 or 1)\n",
    "final_predictions_labels = (final_predictions > 0.1).astype(int)\n",
    "\n",
    "test_images, test_indices = load_and_preprocess_test_images(test_folder)\n",
    "\n",
    "f1 = f1_score(y_test, final_predictions_labels)\n",
    "print(f\"F1 Score: {f1}\")"
   ]
  },
  {
   "cell_type": "code",
   "execution_count": 20,
   "id": "4f3ee66f",
   "metadata": {},
   "outputs": [
    {
     "ename": "ValueError",
     "evalue": "All arrays must be of the same length",
     "output_type": "error",
     "traceback": [
      "\u001b[1;31m---------------------------------------------------------------------------\u001b[0m",
      "\u001b[1;31mValueError\u001b[0m                                Traceback (most recent call last)",
      "Cell \u001b[1;32mIn[20], line 2\u001b[0m\n\u001b[0;32m      1\u001b[0m \u001b[38;5;66;03m# Assuming `test_indices` contains the indices for the test set\u001b[39;00m\n\u001b[1;32m----> 2\u001b[0m results_df \u001b[38;5;241m=\u001b[39m pd\u001b[38;5;241m.\u001b[39mDataFrame({\u001b[38;5;124m'\u001b[39m\u001b[38;5;124mfile_index\u001b[39m\u001b[38;5;124m'\u001b[39m: test_indices, \u001b[38;5;124m'\u001b[39m\u001b[38;5;124mclass\u001b[39m\u001b[38;5;124m'\u001b[39m: final_predictions_labels\u001b[38;5;241m.\u001b[39mflatten()})\n\u001b[0;32m      3\u001b[0m results_df\u001b[38;5;241m.\u001b[39mto_csv(\u001b[38;5;124m'\u001b[39m\u001b[38;5;124mtest_predictions1.csv\u001b[39m\u001b[38;5;124m'\u001b[39m, index\u001b[38;5;241m=\u001b[39m\u001b[38;5;28;01mFalse\u001b[39;00m)\n",
      "File \u001b[1;32m~\\anaconda3\\Lib\\site-packages\\pandas\\core\\frame.py:664\u001b[0m, in \u001b[0;36mDataFrame.__init__\u001b[1;34m(self, data, index, columns, dtype, copy)\u001b[0m\n\u001b[0;32m    658\u001b[0m     mgr \u001b[38;5;241m=\u001b[39m \u001b[38;5;28mself\u001b[39m\u001b[38;5;241m.\u001b[39m_init_mgr(\n\u001b[0;32m    659\u001b[0m         data, axes\u001b[38;5;241m=\u001b[39m{\u001b[38;5;124m\"\u001b[39m\u001b[38;5;124mindex\u001b[39m\u001b[38;5;124m\"\u001b[39m: index, \u001b[38;5;124m\"\u001b[39m\u001b[38;5;124mcolumns\u001b[39m\u001b[38;5;124m\"\u001b[39m: columns}, dtype\u001b[38;5;241m=\u001b[39mdtype, copy\u001b[38;5;241m=\u001b[39mcopy\n\u001b[0;32m    660\u001b[0m     )\n\u001b[0;32m    662\u001b[0m \u001b[38;5;28;01melif\u001b[39;00m \u001b[38;5;28misinstance\u001b[39m(data, \u001b[38;5;28mdict\u001b[39m):\n\u001b[0;32m    663\u001b[0m     \u001b[38;5;66;03m# GH#38939 de facto copy defaults to False only in non-dict cases\u001b[39;00m\n\u001b[1;32m--> 664\u001b[0m     mgr \u001b[38;5;241m=\u001b[39m dict_to_mgr(data, index, columns, dtype\u001b[38;5;241m=\u001b[39mdtype, copy\u001b[38;5;241m=\u001b[39mcopy, typ\u001b[38;5;241m=\u001b[39mmanager)\n\u001b[0;32m    665\u001b[0m \u001b[38;5;28;01melif\u001b[39;00m \u001b[38;5;28misinstance\u001b[39m(data, ma\u001b[38;5;241m.\u001b[39mMaskedArray):\n\u001b[0;32m    666\u001b[0m     \u001b[38;5;28;01mimport\u001b[39;00m \u001b[38;5;21;01mnumpy\u001b[39;00m\u001b[38;5;21;01m.\u001b[39;00m\u001b[38;5;21;01mma\u001b[39;00m\u001b[38;5;21;01m.\u001b[39;00m\u001b[38;5;21;01mmrecords\u001b[39;00m \u001b[38;5;28;01mas\u001b[39;00m \u001b[38;5;21;01mmrecords\u001b[39;00m\n",
      "File \u001b[1;32m~\\anaconda3\\Lib\\site-packages\\pandas\\core\\internals\\construction.py:493\u001b[0m, in \u001b[0;36mdict_to_mgr\u001b[1;34m(data, index, columns, dtype, typ, copy)\u001b[0m\n\u001b[0;32m    489\u001b[0m     \u001b[38;5;28;01melse\u001b[39;00m:\n\u001b[0;32m    490\u001b[0m         \u001b[38;5;66;03m# dtype check to exclude e.g. range objects, scalars\u001b[39;00m\n\u001b[0;32m    491\u001b[0m         arrays \u001b[38;5;241m=\u001b[39m [x\u001b[38;5;241m.\u001b[39mcopy() \u001b[38;5;28;01mif\u001b[39;00m \u001b[38;5;28mhasattr\u001b[39m(x, \u001b[38;5;124m\"\u001b[39m\u001b[38;5;124mdtype\u001b[39m\u001b[38;5;124m\"\u001b[39m) \u001b[38;5;28;01melse\u001b[39;00m x \u001b[38;5;28;01mfor\u001b[39;00m x \u001b[38;5;129;01min\u001b[39;00m arrays]\n\u001b[1;32m--> 493\u001b[0m \u001b[38;5;28;01mreturn\u001b[39;00m arrays_to_mgr(arrays, columns, index, dtype\u001b[38;5;241m=\u001b[39mdtype, typ\u001b[38;5;241m=\u001b[39mtyp, consolidate\u001b[38;5;241m=\u001b[39mcopy)\n",
      "File \u001b[1;32m~\\anaconda3\\Lib\\site-packages\\pandas\\core\\internals\\construction.py:118\u001b[0m, in \u001b[0;36marrays_to_mgr\u001b[1;34m(arrays, columns, index, dtype, verify_integrity, typ, consolidate)\u001b[0m\n\u001b[0;32m    115\u001b[0m \u001b[38;5;28;01mif\u001b[39;00m verify_integrity:\n\u001b[0;32m    116\u001b[0m     \u001b[38;5;66;03m# figure out the index, if necessary\u001b[39;00m\n\u001b[0;32m    117\u001b[0m     \u001b[38;5;28;01mif\u001b[39;00m index \u001b[38;5;129;01mis\u001b[39;00m \u001b[38;5;28;01mNone\u001b[39;00m:\n\u001b[1;32m--> 118\u001b[0m         index \u001b[38;5;241m=\u001b[39m _extract_index(arrays)\n\u001b[0;32m    119\u001b[0m     \u001b[38;5;28;01melse\u001b[39;00m:\n\u001b[0;32m    120\u001b[0m         index \u001b[38;5;241m=\u001b[39m ensure_index(index)\n",
      "File \u001b[1;32m~\\anaconda3\\Lib\\site-packages\\pandas\\core\\internals\\construction.py:666\u001b[0m, in \u001b[0;36m_extract_index\u001b[1;34m(data)\u001b[0m\n\u001b[0;32m    664\u001b[0m lengths \u001b[38;5;241m=\u001b[39m \u001b[38;5;28mlist\u001b[39m(\u001b[38;5;28mset\u001b[39m(raw_lengths))\n\u001b[0;32m    665\u001b[0m \u001b[38;5;28;01mif\u001b[39;00m \u001b[38;5;28mlen\u001b[39m(lengths) \u001b[38;5;241m>\u001b[39m \u001b[38;5;241m1\u001b[39m:\n\u001b[1;32m--> 666\u001b[0m     \u001b[38;5;28;01mraise\u001b[39;00m \u001b[38;5;167;01mValueError\u001b[39;00m(\u001b[38;5;124m\"\u001b[39m\u001b[38;5;124mAll arrays must be of the same length\u001b[39m\u001b[38;5;124m\"\u001b[39m)\n\u001b[0;32m    668\u001b[0m \u001b[38;5;28;01mif\u001b[39;00m have_dicts:\n\u001b[0;32m    669\u001b[0m     \u001b[38;5;28;01mraise\u001b[39;00m \u001b[38;5;167;01mValueError\u001b[39;00m(\n\u001b[0;32m    670\u001b[0m         \u001b[38;5;124m\"\u001b[39m\u001b[38;5;124mMixing dicts with non-Series may lead to ambiguous ordering.\u001b[39m\u001b[38;5;124m\"\u001b[39m\n\u001b[0;32m    671\u001b[0m     )\n",
      "\u001b[1;31mValueError\u001b[0m: All arrays must be of the same length"
     ]
    }
   ],
   "source": [
    "# Assuming `test_indices` contains the indices for the test set\n",
    "results_df = pd.DataFrame({'file_index': test_indices, 'class': final_predictions_labels.flatten()})\n",
    "results_df.to_csv('test_predictions1.csv', index=False)"
   ]
  },
  {
   "cell_type": "code",
   "execution_count": 27,
   "id": "135071a6",
   "metadata": {},
   "outputs": [
    {
     "name": "stdout",
     "output_type": "stream",
     "text": [
      "1/1 [==============================] - 0s 41ms/step\n"
     ]
    }
   ],
   "source": [
    "# Load and preprocess images\n",
    "def load_and_preprocess_test_images(folder_path):\n",
    "    images = []\n",
    "    indices = []\n",
    "    for filename in os.listdir(folder_path):\n",
    "        if filename.endswith('.jpeg'):\n",
    "            index = int(filename.split('.')[0])  # Extract index from filename\n",
    "            indices.append(index)\n",
    "            img = cv2.imread(os.path.join(folder_path, filename))\n",
    "            img = cv2.resize(img, (64, 64))  # Resize to 64x64 pixels\n",
    "            img = img / 255.0  # Normalize pixel values\n",
    "            images.append(img)\n",
    "    return np.array(images), np.array(indices)\n",
    "\n",
    "# Define the path to the test image folder\n",
    "test_folder = 'C:/Users/User/Desktop/dataton/test_test/'\n",
    "\n",
    "# Load and preprocess test images\n",
    "test_images, test_indices = load_and_preprocess_test_images(test_folder)\n",
    "\n",
    "# Predict labels\n",
    "predictions = model_1.predict(test_images)\n",
    "predicted_labels = (predictions > 0.1).astype(int).flatten()\n",
    "\n",
    "# Create a DataFrame with indices and predicted labels\n",
    "results_df = pd.DataFrame({'file_index': test_indices, 'class': predicted_labels})\n",
    "\n",
    "# Save the results to a CSV file\n",
    "results_df.to_csv('test_predictions3.csv', index=False)\n"
   ]
  },
  {
   "cell_type": "code",
   "execution_count": 30,
   "id": "29f987b2",
   "metadata": {},
   "outputs": [
    {
     "name": "stdout",
     "output_type": "stream",
     "text": [
      "Accuracy: 1.0\n",
      "F1 Score: 1.0\n"
     ]
    }
   ],
   "source": [
    "# Load true labels from the provided CSV\n",
    "true_labels_df = pd.read_csv('C:/Users/User/Desktop/dataton/test_predictions3.csv')  # Replace with actual path\n",
    "\n",
    "# Merge true labels with predicted labels\n",
    "merged_df = pd.merge(true_labels_df, results_df, on='file_index')\n",
    "\n",
    "# Calculate accuracy\n",
    "accuracy = (merged_df['class_x'] == merged_df['class_y']).mean()\n",
    "print(f'Accuracy: {accuracy}')\n",
    "\n",
    "# Calculate F1 score\n",
    "from sklearn.metrics import f1_score\n",
    "\n",
    "f1 = f1_score(merged_df['class_x'], merged_df['class_y'])\n",
    "print(f'F1 Score: {f1}')"
   ]
  },
  {
   "cell_type": "code",
   "execution_count": null,
   "id": "7b3b3699",
   "metadata": {},
   "outputs": [],
   "source": []
  }
 ],
 "metadata": {
  "kernelspec": {
   "display_name": "Python 3 (ipykernel)",
   "language": "python",
   "name": "python3"
  },
  "language_info": {
   "codemirror_mode": {
    "name": "ipython",
    "version": 3
   },
   "file_extension": ".py",
   "mimetype": "text/x-python",
   "name": "python",
   "nbconvert_exporter": "python",
   "pygments_lexer": "ipython3",
   "version": "3.11.4"
  }
 },
 "nbformat": 4,
 "nbformat_minor": 5
}
